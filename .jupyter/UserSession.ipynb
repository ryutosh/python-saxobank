{
 "cells": [
  {
   "cell_type": "code",
   "execution_count": 2,
   "metadata": {},
   "outputs": [
    {
     "name": "stdout",
     "output_type": "stream",
     "text": [
      "init\n",
      "post init\n",
      "{'_root': [{'AccountKey': '123', 'AssetType': <AssetType.CfdOnIndex: 'CfdOnIndex'>, 'Uic': 12233}]}\n",
      "[{'AccountKey': '123', 'AssetType': 'CfdOnIndex', 'Uic': 12233}]\n"
     ]
    }
   ],
   "source": [
    "# from saxobank.application import Application\n",
    "# from saxobank.model.common import AssetType\n",
    "from saxobank import model\n",
    "# import inspect\n",
    "\n",
    "\n",
    "mdl = model.resp.PostPortOrdersSubscriptionsStreamingRespRoot([{'AccountKey': '123', 'AssetType': model.common.AssetType.CfdOnIndex, 'Uic': 12233}])\n",
    "from dataclasses import asdict\n",
    "from saxobank import converter\n",
    "d = asdict(mdl)\n",
    "print(d)\n",
    "\n",
    "d2 = converter.as_request(mdl)\n",
    "print(d2)\n",
    "\n",
    "# your_access_token='1234'\n",
    "# # Setup application countering to Saxo OpenAPI simulation environment\n",
    "# saxo = Application.SIM(1,2)\n",
    "\n",
    "# # Create a sesion instance to requests OpenAPI\n",
    "# client = saxo.create_session(access_token=your_access_token)\n",
    "# res = session.port_closedpositions_get()\n",
    "\n",
    "# # mdl = model.chart.charts.GetReq(AssetType=AssetType.CfdOnIndex, Uic=1482, Horizon=60, Mode=model.chart.charts.ChartRequestMode.From)\n",
    "# mdl = model.req.GetChartCharts(AssetType=AssetType.CfdOnIndex, Uic=1482, Horizon=60, Mode=model.chart.charts.ChartRequestMode.From)\n",
    "# res = await client.get_chart_charts(request_model=mdl)\n",
    "\n",
    "# mdl = model.chart.charts.ChartSubscriptionRequest(AssetType=AssetType.CfdOnIndex, Uic=1482, Horizon=60)\n",
    "# res = await streaming.create_chart_charts(Arguments=mdl, ContextId=ContextId(123))\n",
    "\n",
    "# res = await client.get_chart_charts(request_model=mdl)\n",
    "\n",
    "\n",
    "# mdl = model.resp.PostPortOrdersSubscriptionsStreamingRespRoot()\n",
    "# print(res)\n",
    "# print(inspect.signature(session.port_closedpositions_get))\n",
    "# session.port_closedpositions_get()\n"
   ]
  }
 ],
 "metadata": {
  "kernelspec": {
   "display_name": ".venv",
   "language": "python",
   "name": "python3"
  },
  "language_info": {
   "codemirror_mode": {
    "name": "ipython",
    "version": 3
   },
   "file_extension": ".py",
   "mimetype": "text/x-python",
   "name": "python",
   "nbconvert_exporter": "python",
   "pygments_lexer": "ipython3",
   "version": "3.10.12"
  }
 },
 "nbformat": 4,
 "nbformat_minor": 5
}
