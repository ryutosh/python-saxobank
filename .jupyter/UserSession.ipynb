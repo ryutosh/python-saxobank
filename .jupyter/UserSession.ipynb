{
 "cells": [
  {
   "cell_type": "code",
   "execution_count": 1,
   "metadata": {},
   "outputs": [
    {
     "name": "stdout",
     "output_type": "stream",
     "text": [
      "init\n",
      "post init\n"
     ]
    },
    {
     "name": "stderr",
     "output_type": "stream",
     "text": [
      "/home/toshiya/git/python-saxobank/.venv/lib/python3.10/site-packages/pydantic/_internal/_config.py:269: UserWarning: Valid config keys have changed in V2:\n",
      "* 'fields' has been removed\n",
      "  warnings.warn(message, UserWarning)\n"
     ]
    },
    {
     "ename": "TypeError",
     "evalue": "PostPortOrdersSubscriptionsStreamingResp.__init__() missing 2 required positional arguments: 'AssetType' and 'Uic'",
     "output_type": "error",
     "traceback": [
      "\u001b[0;31m---------------------------------------------------------------------------\u001b[0m",
      "\u001b[0;31mTypeError\u001b[0m                                 Traceback (most recent call last)",
      "Cell \u001b[0;32mIn[1], line 7\u001b[0m\n\u001b[1;32m      3\u001b[0m \u001b[39mfrom\u001b[39;00m \u001b[39msaxobank\u001b[39;00m \u001b[39mimport\u001b[39;00m model\n\u001b[1;32m      4\u001b[0m \u001b[39m# import inspect\u001b[39;00m\n\u001b[0;32m----> 7\u001b[0m mdl \u001b[39m=\u001b[39m model\u001b[39m.\u001b[39;49mresp\u001b[39m.\u001b[39;49mPostPortOrdersSubscriptionsStreamingRespRoot([{\u001b[39m'\u001b[39;49m\u001b[39mAccountKey\u001b[39;49m\u001b[39m'\u001b[39;49m: \u001b[39m'\u001b[39;49m\u001b[39m123\u001b[39;49m\u001b[39m'\u001b[39;49m}])\n\u001b[1;32m      8\u001b[0m \u001b[39mfrom\u001b[39;00m \u001b[39mdataclasses\u001b[39;00m \u001b[39mimport\u001b[39;00m asdict\n\u001b[1;32m      9\u001b[0m \u001b[39mfrom\u001b[39;00m \u001b[39msaxobank\u001b[39;00m \u001b[39mimport\u001b[39;00m converter\n",
      "File \u001b[0;32m~/git/python-saxobank/saxobank/model/resp/port.py:68\u001b[0m, in \u001b[0;36mPostPortOrdersSubscriptionsStreamingRespRoot.__init__\u001b[0;34m(self, model)\u001b[0m\n\u001b[1;32m     66\u001b[0m \u001b[39mprint\u001b[39m(\u001b[39m\"\u001b[39m\u001b[39minit\u001b[39m\u001b[39m\"\u001b[39m)\n\u001b[1;32m     67\u001b[0m \u001b[39mself\u001b[39m\u001b[39m.\u001b[39m_root \u001b[39m=\u001b[39m model\n\u001b[0;32m---> 68\u001b[0m \u001b[39mself\u001b[39;49m\u001b[39m.\u001b[39;49m__post_init__()\n",
      "File \u001b[0;32m~/git/python-saxobank/saxobank/model/resp/port.py:80\u001b[0m, in \u001b[0;36mPostPortOrdersSubscriptionsStreamingRespRoot.__post_init__\u001b[0;34m(self)\u001b[0m\n\u001b[1;32m     72\u001b[0m \u001b[39msuper\u001b[39m()\u001b[39m.\u001b[39m__post_init__()\n\u001b[1;32m     74\u001b[0m \u001b[39mif\u001b[39;00m \u001b[39mself\u001b[39m\u001b[39m.\u001b[39m_root \u001b[39mand\u001b[39;00m \u001b[39many\u001b[39m(\n\u001b[1;32m     75\u001b[0m     (\n\u001b[1;32m     76\u001b[0m         \u001b[39mnot\u001b[39;00m \u001b[39misinstance\u001b[39m(member, PostPortOrdersSubscriptionsStreamingResp)\n\u001b[1;32m     77\u001b[0m         \u001b[39mfor\u001b[39;00m member \u001b[39min\u001b[39;00m \u001b[39mself\u001b[39m\u001b[39m.\u001b[39m_root\n\u001b[1;32m     78\u001b[0m     )\n\u001b[1;32m     79\u001b[0m ):\n\u001b[0;32m---> 80\u001b[0m     \u001b[39mself\u001b[39m\u001b[39m.\u001b[39m_root \u001b[39m=\u001b[39m [\n\u001b[1;32m     81\u001b[0m         PostPortOrdersSubscriptionsStreamingResp(\u001b[39m*\u001b[39m\u001b[39m*\u001b[39mmember)\n\u001b[1;32m     82\u001b[0m         \u001b[39mfor\u001b[39;00m member \u001b[39min\u001b[39;00m cast(\u001b[39mlist\u001b[39m[\u001b[39mdict\u001b[39m[\u001b[39mstr\u001b[39m, Any]], \u001b[39mself\u001b[39m\u001b[39m.\u001b[39m_root)\n\u001b[1;32m     83\u001b[0m     ]\n",
      "File \u001b[0;32m~/git/python-saxobank/saxobank/model/resp/port.py:81\u001b[0m, in \u001b[0;36m<listcomp>\u001b[0;34m(.0)\u001b[0m\n\u001b[1;32m     72\u001b[0m \u001b[39msuper\u001b[39m()\u001b[39m.\u001b[39m__post_init__()\n\u001b[1;32m     74\u001b[0m \u001b[39mif\u001b[39;00m \u001b[39mself\u001b[39m\u001b[39m.\u001b[39m_root \u001b[39mand\u001b[39;00m \u001b[39many\u001b[39m(\n\u001b[1;32m     75\u001b[0m     (\n\u001b[1;32m     76\u001b[0m         \u001b[39mnot\u001b[39;00m \u001b[39misinstance\u001b[39m(member, PostPortOrdersSubscriptionsStreamingResp)\n\u001b[1;32m     77\u001b[0m         \u001b[39mfor\u001b[39;00m member \u001b[39min\u001b[39;00m \u001b[39mself\u001b[39m\u001b[39m.\u001b[39m_root\n\u001b[1;32m     78\u001b[0m     )\n\u001b[1;32m     79\u001b[0m ):\n\u001b[1;32m     80\u001b[0m     \u001b[39mself\u001b[39m\u001b[39m.\u001b[39m_root \u001b[39m=\u001b[39m [\n\u001b[0;32m---> 81\u001b[0m         PostPortOrdersSubscriptionsStreamingResp(\u001b[39m*\u001b[39;49m\u001b[39m*\u001b[39;49mmember)\n\u001b[1;32m     82\u001b[0m         \u001b[39mfor\u001b[39;00m member \u001b[39min\u001b[39;00m cast(\u001b[39mlist\u001b[39m[\u001b[39mdict\u001b[39m[\u001b[39mstr\u001b[39m, Any]], \u001b[39mself\u001b[39m\u001b[39m.\u001b[39m_root)\n\u001b[1;32m     83\u001b[0m     ]\n",
      "\u001b[0;31mTypeError\u001b[0m: PostPortOrdersSubscriptionsStreamingResp.__init__() missing 2 required positional arguments: 'AssetType' and 'Uic'"
     ]
    }
   ],
   "source": [
    "# from saxobank.application import Application\n",
    "# from saxobank.model.common import AssetType\n",
    "from saxobank import model\n",
    "# import inspect\n",
    "\n",
    "\n",
    "mdl = model.resp.PostPortOrdersSubscriptionsStreamingRespRoot([{'AccountKey': '123', 'AssetType': model.common.AssetType.CfdOnIndex, 'Uic': 12233}])\n",
    "from dataclasses import asdict\n",
    "from saxobank import converter\n",
    "d = asdict(mdl)\n",
    "print(d)\n",
    "\n",
    "d2 = converter.as_request(mdl)\n",
    "print(d2)\n",
    "\n",
    "# your_access_token='1234'\n",
    "# # Setup application countering to Saxo OpenAPI simulation environment\n",
    "# saxo = Application.SIM(1,2)\n",
    "\n",
    "# # Create a sesion instance to requests OpenAPI\n",
    "# client = saxo.create_session(access_token=your_access_token)\n",
    "# res = session.port_closedpositions_get()\n",
    "\n",
    "# # mdl = model.chart.charts.GetReq(AssetType=AssetType.CfdOnIndex, Uic=1482, Horizon=60, Mode=model.chart.charts.ChartRequestMode.From)\n",
    "# mdl = model.req.GetChartCharts(AssetType=AssetType.CfdOnIndex, Uic=1482, Horizon=60, Mode=model.chart.charts.ChartRequestMode.From)\n",
    "# res = await client.get_chart_charts(request_model=mdl)\n",
    "\n",
    "# mdl = model.chart.charts.ChartSubscriptionRequest(AssetType=AssetType.CfdOnIndex, Uic=1482, Horizon=60)\n",
    "# res = await streaming.create_chart_charts(Arguments=mdl, ContextId=ContextId(123))\n",
    "\n",
    "# res = await client.get_chart_charts(request_model=mdl)\n",
    "\n",
    "\n",
    "# mdl = model.resp.PostPortOrdersSubscriptionsStreamingRespRoot()\n",
    "# print(res)\n",
    "# print(inspect.signature(session.port_closedpositions_get))\n",
    "# session.port_closedpositions_get()\n"
   ]
  }
 ],
 "metadata": {
  "kernelspec": {
   "display_name": ".venv",
   "language": "python",
   "name": "python3"
  },
  "language_info": {
   "codemirror_mode": {
    "name": "ipython",
    "version": 3
   },
   "file_extension": ".py",
   "mimetype": "text/x-python",
   "name": "python",
   "nbconvert_exporter": "python",
   "pygments_lexer": "ipython3",
   "version": "3.10.12"
  }
 },
 "nbformat": 4,
 "nbformat_minor": 5
}
