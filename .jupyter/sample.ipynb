{
 "cells": [
  {
   "cell_type": "code",
   "execution_count": 1,
   "metadata": {},
   "outputs": [
    {
     "name": "stderr",
     "output_type": "stream",
     "text": [
      "/home/chromeuser/git/python-saxobank/.venv/lib/python3.11/site-packages/pydantic/_internal/_config.py:269: UserWarning: Valid config keys have changed in V2:\n",
      "* 'fields' has been removed\n",
      "  warnings.warn(message, UserWarning)\n"
     ]
    },
    {
     "name": "stdout",
     "output_type": "stream",
     "text": [
      "check: Data[0] is typing.Union[saxobank.model.chart.charts.ChartSample, dict[str, typing.Any]]\n",
      "check: DataVersion is <class 'int'>\n",
      "check: ChartInfo is typing.Optional[typing.Dict[str, typing.Any]]\n",
      "{'Data': [{'CloseAsk': 100.0, 'CloseBid': 200.0, 'Time': '2015-02-02T01:02:03+00:00'}], 'DataVersion': 1}\n",
      "check: Data[0] is typing.Union[saxobank.model.chart.charts.ChartSample, dict[str, typing.Any]]\n"
     ]
    },
    {
     "ename": "TypeError",
     "evalue": "issubclass() argument 2 cannot be a parameterized generic",
     "output_type": "error",
     "traceback": [
      "\u001b[0;31m---------------------------------------------------------------------------\u001b[0m",
      "\u001b[0;31mTypeError\u001b[0m                                 Traceback (most recent call last)",
      "Cell \u001b[0;32mIn[1], line 22\u001b[0m\n\u001b[1;32m     20\u001b[0m d \u001b[39m=\u001b[39m as_request(mdl)\n\u001b[1;32m     21\u001b[0m \u001b[39mprint\u001b[39m(d)\n\u001b[0;32m---> 22\u001b[0m m \u001b[39m=\u001b[39m from_response(d, charts\u001b[39m.\u001b[39;49mGetResp)\n\u001b[1;32m     23\u001b[0m \u001b[39mprint\u001b[39m(m)\n\u001b[1;32m     24\u001b[0m \u001b[39m# print(json.dumps(as_request([mdl])))\u001b[39;00m\n",
      "File \u001b[0;32m~/git/python-saxobank/saxobank/converter.py:36\u001b[0m, in \u001b[0;36mfrom_response\u001b[0;34m(obj, model)\u001b[0m\n\u001b[1;32m     34\u001b[0m     \u001b[39mreturn\u001b[39;00m [model(\u001b[39m*\u001b[39m\u001b[39m*\u001b[39me) \u001b[39mfor\u001b[39;00m e \u001b[39min\u001b[39;00m obj]\n\u001b[1;32m     35\u001b[0m \u001b[39melse\u001b[39;00m:\n\u001b[0;32m---> 36\u001b[0m     \u001b[39mreturn\u001b[39;00m model(\u001b[39m*\u001b[39;49m\u001b[39m*\u001b[39;49mobj)\n",
      "File \u001b[0;32m<string>:6\u001b[0m, in \u001b[0;36m__init__\u001b[0;34m(self, Data, DataVersion, ChartInfo)\u001b[0m\n",
      "File \u001b[0;32m~/git/python-saxobank/saxobank/model/base.py:57\u001b[0m, in \u001b[0;36mSaxobankModel2.__post_init__\u001b[0;34m(self)\u001b[0m\n\u001b[1;32m     55\u001b[0m \u001b[39mif\u001b[39;00m \u001b[39misinstance\u001b[39m(t, GenericAlias) \u001b[39mand\u001b[39;00m t\u001b[39m.\u001b[39m__origin__ \u001b[39m==\u001b[39m \u001b[39mlist\u001b[39m:\n\u001b[1;32m     56\u001b[0m     \u001b[39mfor\u001b[39;00m i, e \u001b[39min\u001b[39;00m \u001b[39menumerate\u001b[39m(v):\n\u001b[0;32m---> 57\u001b[0m         _checkinstance(\u001b[39mf\u001b[39;49m\u001b[39m\"\u001b[39;49m\u001b[39m{\u001b[39;49;00mfield\u001b[39m.\u001b[39;49mname\u001b[39m}\u001b[39;49;00m\u001b[39m[\u001b[39;49m\u001b[39m{\u001b[39;49;00mi\u001b[39m}\u001b[39;49;00m\u001b[39m]\u001b[39;49m\u001b[39m\"\u001b[39;49m, e, t\u001b[39m.\u001b[39;49m__args__[\u001b[39m0\u001b[39;49m])\n\u001b[1;32m     58\u001b[0m \u001b[39melse\u001b[39;00m:\n\u001b[1;32m     59\u001b[0m     _checkinstance(field\u001b[39m.\u001b[39mname, v, t)\n",
      "File \u001b[0;32m~/git/python-saxobank/saxobank/model/base.py:39\u001b[0m, in \u001b[0;36m_checkinstance\u001b[0;34m(name, instance, cls)\u001b[0m\n\u001b[1;32m     37\u001b[0m \u001b[39mdef\u001b[39;00m \u001b[39m_checkinstance\u001b[39m(name: \u001b[39mstr\u001b[39m, instance: Any, \u001b[39mcls\u001b[39m: \u001b[39mtype\u001b[39m) \u001b[39m-\u001b[39m\u001b[39m>\u001b[39m \u001b[39mbool\u001b[39m:\n\u001b[1;32m     38\u001b[0m     \u001b[39mprint\u001b[39m(\u001b[39mf\u001b[39m\u001b[39m\"\u001b[39m\u001b[39mcheck: \u001b[39m\u001b[39m{\u001b[39;00mname\u001b[39m}\u001b[39;00m\u001b[39m is \u001b[39m\u001b[39m{\u001b[39;00m\u001b[39mcls\u001b[39m\u001b[39m}\u001b[39;00m\u001b[39m\"\u001b[39m)\n\u001b[0;32m---> 39\u001b[0m     \u001b[39mif\u001b[39;00m \u001b[39mnot\u001b[39;00m \u001b[39misinstance\u001b[39;49m(instance, \u001b[39mcls\u001b[39;49m):\n\u001b[1;32m     40\u001b[0m         \u001b[39mraise\u001b[39;00m \u001b[39mValueError\u001b[39;00m(\n\u001b[1;32m     41\u001b[0m             \u001b[39mf\u001b[39m\u001b[39m\"\u001b[39m\u001b[39mField \u001b[39m\u001b[39m{\u001b[39;00mname\u001b[39m}\u001b[39;00m\u001b[39m expected as \u001b[39m\u001b[39m{\u001b[39;00m\u001b[39mcls\u001b[39m\u001b[39m.\u001b[39m\u001b[39m__name__\u001b[39m\u001b[39m}\u001b[39;00m\u001b[39m, but \u001b[39m\u001b[39m{\u001b[39;00m\u001b[39mtype\u001b[39m(instance)\u001b[39m.\u001b[39m\u001b[39m__name__\u001b[39m\u001b[39m}\u001b[39;00m\u001b[39m given.\u001b[39m\u001b[39m\"\u001b[39m\n\u001b[1;32m     42\u001b[0m         )\n\u001b[1;32m     43\u001b[0m     \u001b[39mreturn\u001b[39;00m \u001b[39mTrue\u001b[39;00m\n",
      "File \u001b[0;32m/usr/lib/python3.11/typing.py:1650\u001b[0m, in \u001b[0;36m_UnionGenericAlias.__instancecheck__\u001b[0;34m(self, obj)\u001b[0m\n\u001b[1;32m   1649\u001b[0m \u001b[39mdef\u001b[39;00m \u001b[39m__instancecheck__\u001b[39m(\u001b[39mself\u001b[39m, obj):\n\u001b[0;32m-> 1650\u001b[0m     \u001b[39mreturn\u001b[39;00m \u001b[39mself\u001b[39;49m\u001b[39m.\u001b[39;49m\u001b[39m__subclasscheck__\u001b[39;49m(\u001b[39mtype\u001b[39;49m(obj))\n",
      "File \u001b[0;32m/usr/lib/python3.11/typing.py:1654\u001b[0m, in \u001b[0;36m_UnionGenericAlias.__subclasscheck__\u001b[0;34m(self, cls)\u001b[0m\n\u001b[1;32m   1652\u001b[0m \u001b[39mdef\u001b[39;00m \u001b[39m__subclasscheck__\u001b[39m(\u001b[39mself\u001b[39m, \u001b[39mcls\u001b[39m):\n\u001b[1;32m   1653\u001b[0m     \u001b[39mfor\u001b[39;00m arg \u001b[39min\u001b[39;00m \u001b[39mself\u001b[39m\u001b[39m.\u001b[39m__args__:\n\u001b[0;32m-> 1654\u001b[0m         \u001b[39mif\u001b[39;00m \u001b[39missubclass\u001b[39;49m(\u001b[39mcls\u001b[39;49m, arg):\n\u001b[1;32m   1655\u001b[0m             \u001b[39mreturn\u001b[39;00m \u001b[39mTrue\u001b[39;00m\n",
      "\u001b[0;31mTypeError\u001b[0m: issubclass() argument 2 cannot be a parameterized generic"
     ]
    }
   ],
   "source": [
    "from saxobank.model import streaming\n",
    "from saxobank.model.chart import charts\n",
    "from saxobank.model import common\n",
    "from aiohttp import client\n",
    "import json\n",
    "from saxobank.converter import as_request, from_response\n",
    "from datetime import datetime\n",
    "from typing import List\n",
    "\n",
    "a = charts.ChartSample\n",
    "\n",
    "now = datetime.now()\n",
    "mdl = charts.GetResp(Data=[charts.ChartSample(\n",
    "    CloseAsk=100.0,\n",
    "    CloseBid=200.0,\n",
    "    Time='2015-02-02T01:02:03Z')],\n",
    "    DataVersion=1)\n",
    "# mdl = charts.GetResp(DataVersion=1.3)\n",
    "\n",
    "d = as_request(mdl)\n",
    "print(d)\n",
    "m = from_response(d, charts.GetResp)\n",
    "print(m)\n",
    "# print(json.dumps(as_request([mdl])))\n"
   ]
  },
  {
   "cell_type": "code",
   "execution_count": 3,
   "metadata": {},
   "outputs": [
    {
     "name": "stdout",
     "output_type": "stream",
     "text": [
      "{'Data': [{'CloseAsk': 100.0, 'CloseBid': 200.0, 'Time': '2015-02-02T01:02:03+00:00'}], 'DataVersion': 1}\n",
      "{'Data': list[typing.Union[saxobank.model.chart.charts.ChartSample, dict[str, typing.Any]]], 'DataVersion': <class 'int'>, 'ChartInfo': typing.Optional[typing.Dict[str, typing.Any]]}\n",
      "Field(name='Data',type='list[Union[ChartSample, dict[str, Any]]]',default=<dataclasses._MISSING_TYPE object at 0x7ef90a00e890>,default_factory=<dataclasses._MISSING_TYPE object at 0x7ef90a00e890>,init=True,repr=True,hash=None,compare=True,metadata=mappingproxy({}),kw_only=False,_field_type=_FIELD)\n",
      "True\n",
      "['__add__', '__args__', '__class__', '__class_getitem__', '__contains__', '__copy__', '__deepcopy__', '__delattr__', '__delitem__', '__dir__', '__doc__', '__eq__', '__format__', '__ge__', '__getattribute__', '__getitem__', '__getstate__', '__gt__', '__hash__', '__iadd__', '__imul__', '__init__', '__init_subclass__', '__iter__', '__le__', '__len__', '__lt__', '__mro_entries__', '__mul__', '__ne__', '__new__', '__origin__', '__parameters__', '__reduce__', '__reduce_ex__', '__repr__', '__reversed__', '__rmul__', '__setattr__', '__setitem__', '__sizeof__', '__str__', '__subclasshook__', '__typing_unpacked_tuple_args__', '__unpacked__', 'append', 'clear', 'copy', 'count', 'extend', 'index', 'insert', 'pop', 'remove', 'reverse', 'sort']\n",
      "[ChartSample(CloseAsk=100.0, CloseBid=200.0, Time=datetime.datetime(2015, 2, 2, 1, 2, 3, tzinfo=datetime.timezone.utc))]\n",
      "Union\n",
      "ChartSample\n",
      "ChartSample\n",
      "Field(name='DataVersion',type='int',default=<dataclasses._MISSING_TYPE object at 0x7ef90a00e890>,default_factory=<dataclasses._MISSING_TYPE object at 0x7ef90a00e890>,init=True,repr=True,hash=None,compare=True,metadata=mappingproxy({}),kw_only=False,_field_type=_FIELD)\n",
      "False\n",
      "['__abs__', '__add__', '__and__', '__bool__', '__ceil__', '__class__', '__delattr__', '__dir__', '__divmod__', '__doc__', '__eq__', '__float__', '__floor__', '__floordiv__', '__format__', '__ge__', '__getattribute__', '__getnewargs__', '__getstate__', '__gt__', '__hash__', '__index__', '__init__', '__init_subclass__', '__int__', '__invert__', '__le__', '__lshift__', '__lt__', '__mod__', '__mul__', '__ne__', '__neg__', '__new__', '__or__', '__pos__', '__pow__', '__radd__', '__rand__', '__rdivmod__', '__reduce__', '__reduce_ex__', '__repr__', '__rfloordiv__', '__rlshift__', '__rmod__', '__rmul__', '__ror__', '__round__', '__rpow__', '__rrshift__', '__rshift__', '__rsub__', '__rtruediv__', '__rxor__', '__setattr__', '__sizeof__', '__str__', '__sub__', '__subclasshook__', '__truediv__', '__trunc__', '__xor__', 'as_integer_ratio', 'bit_count', 'bit_length', 'conjugate', 'denominator', 'from_bytes', 'imag', 'numerator', 'real', 'to_bytes']\n",
      "1\n",
      "ok\n",
      "Field(name='ChartInfo',type='Optional[Union[ChartInfo, Dict[str, Any]]]',default=None,default_factory=<dataclasses._MISSING_TYPE object at 0x7ef90a00e890>,init=True,repr=True,hash=None,compare=True,metadata=mappingproxy({}),kw_only=False,_field_type=_FIELD)\n",
      "False\n",
      "['__args__', '__call__', '__class__', '__delattr__', '__dict__', '__dir__', '__doc__', '__eq__', '__format__', '__ge__', '__getattr__', '__getattribute__', '__getitem__', '__getstate__', '__gt__', '__hash__', '__init__', '__init_subclass__', '__instancecheck__', '__iter__', '__le__', '__lt__', '__module__', '__mro_entries__', '__ne__', '__new__', '__or__', '__origin__', '__parameters__', '__reduce__', '__reduce_ex__', '__repr__', '__ror__', '__setattr__', '__sizeof__', '__slots__', '__str__', '__subclasscheck__', '__subclasshook__', '__weakref__', '_determine_new_args', '_getitem', '_inst', '_name', '_paramspec_tvars', 'copy_with']\n",
      "None\n",
      "ok\n"
     ]
    }
   ],
   "source": [
    "from saxobank.model.chart import charts\n",
    "from saxobank.converter import as_request\n",
    "from dataclasses import fields\n",
    "from typing import get_type_hints\n",
    "from inspect import get_annotations\n",
    "from json import loads\n",
    "\n",
    "exp = loads('{\"AssetType\": \"CfdOnIndex\", \"Uic\": 1924.3, \"Horizon\": 100, \"Mode\": \"UpTo\"}')\n",
    "mdl = charts.GetReq(**exp)\n",
    "mdl = charts.GetResp(Data=[charts.ChartSample(\n",
    "    CloseAsk=100.0,\n",
    "    CloseBid=200.0,\n",
    "    Time='2015-02-02T01:02:03Z')],\n",
    "    DataVersion=1)\n",
    "    \n",
    "print(as_request(mdl))\n",
    "\n",
    "from inspect import get_annotations\n",
    "from saxobank.model.common import AssetType\n",
    "from types import GenericAlias\n",
    "# schema = get_type_hints(charts.GetReq)\n",
    "# t = schema['AssetType']\n",
    "\n",
    "\n",
    "# schema = get_annotations(charts.GetReq, eval_str=True)\n",
    "schema = get_annotations(charts.GetResp, eval_str=True)\n",
    "print(schema)\n",
    "# t = schema['Data']\n",
    "# print(t.__args__)\n",
    "\n",
    "\n",
    "for field in fields(charts.GetResp):\n",
    "    print(field)\n",
    "    \n",
    "    # print(field.name)\n",
    "    t = schema[field.name]\n",
    "    v = getattr(mdl, field.name)\n",
    "    print(isinstance(t, GenericAlias))\n",
    "    print(dir(t))\n",
    "    print(v)\n",
    "    # print(t.__origin__)\n",
    "    if isinstance(t, GenericAlias) and t.__origin__ == list:\n",
    "        for i, e in enumerate(v):\n",
    "            print(t.__args__[0].__name__)\n",
    "            print(type(e).__name__)\n",
    "            print(type(v[0]).__name__)\n",
    "    elif isinstance(v, t):\n",
    "        print('ok')\n",
    "    else:\n",
    "        print('ng')\n"
   ]
  },
  {
   "cell_type": "code",
   "execution_count": 1,
   "metadata": {},
   "outputs": [
    {
     "name": "stderr",
     "output_type": "stream",
     "text": [
      "/home/chromeuser/git/python-saxobank/.venv/lib/python3.11/site-packages/pydantic/_internal/_config.py:269: UserWarning: Valid config keys have changed in V2:\n",
      "* 'fields' has been removed\n",
      "  warnings.warn(message, UserWarning)\n"
     ]
    },
    {
     "name": "stdout",
     "output_type": "stream",
     "text": [
      "typing.Union[dict[str, typing.Any], saxobank.model.base.SaxobankModel2]\n",
      "(<class 'saxobank.model.chart.charts.ChartSample'>, dict[str, typing.Any])\n"
     ]
    },
    {
     "ename": "TypeError",
     "evalue": "issubclass() argument 2 cannot be a parameterized generic",
     "output_type": "error",
     "traceback": [
      "\u001b[0;31m---------------------------------------------------------------------------\u001b[0m",
      "\u001b[0;31mTypeError\u001b[0m                                 Traceback (most recent call last)",
      "Cell \u001b[0;32mIn[1], line 24\u001b[0m\n\u001b[1;32m     20\u001b[0m test \u001b[39m=\u001b[39m Union[\u001b[39mdict\u001b[39m[\u001b[39mstr\u001b[39m, Any], SaxobankModel2]\n\u001b[1;32m     21\u001b[0m \u001b[39m# print(test)\u001b[39;00m\n\u001b[1;32m     22\u001b[0m \u001b[39m# print(type(test))\u001b[39;00m\n\u001b[1;32m     23\u001b[0m \u001b[39m# print(t == test)\u001b[39;00m\n\u001b[0;32m---> 24\u001b[0m \u001b[39mprint\u001b[39m(checksubclass(t, test))\n",
      "Cell \u001b[0;32mIn[1], line 12\u001b[0m, in \u001b[0;36mchecksubclass\u001b[0;34m(cls, classinfo)\u001b[0m\n\u001b[1;32m     10\u001b[0m \u001b[39mif\u001b[39;00m \u001b[39mgetattr\u001b[39m(\u001b[39mcls\u001b[39m, \u001b[39m'\u001b[39m\u001b[39m__origin__\u001b[39m\u001b[39m'\u001b[39m, \u001b[39mNone\u001b[39;00m) \u001b[39m==\u001b[39m Union:\n\u001b[1;32m     11\u001b[0m     \u001b[39mprint\u001b[39m(\u001b[39mcls\u001b[39m\u001b[39m.\u001b[39m__args__)\n\u001b[0;32m---> 12\u001b[0m     \u001b[39mreturn\u001b[39;00m \u001b[39mall\u001b[39m([\u001b[39missubclass\u001b[39;49m(e, classinfo) \u001b[39mfor\u001b[39;49;00m e \u001b[39min\u001b[39;49;00m \u001b[39mcls\u001b[39;49m\u001b[39m.\u001b[39;49m__args__])\n\u001b[1;32m     13\u001b[0m \u001b[39mreturn\u001b[39;00m \u001b[39missubclass\u001b[39m(\u001b[39mcls\u001b[39m, classinfo)\n",
      "Cell \u001b[0;32mIn[1], line 12\u001b[0m, in \u001b[0;36m<listcomp>\u001b[0;34m(.0)\u001b[0m\n\u001b[1;32m     10\u001b[0m \u001b[39mif\u001b[39;00m \u001b[39mgetattr\u001b[39m(\u001b[39mcls\u001b[39m, \u001b[39m'\u001b[39m\u001b[39m__origin__\u001b[39m\u001b[39m'\u001b[39m, \u001b[39mNone\u001b[39;00m) \u001b[39m==\u001b[39m Union:\n\u001b[1;32m     11\u001b[0m     \u001b[39mprint\u001b[39m(\u001b[39mcls\u001b[39m\u001b[39m.\u001b[39m__args__)\n\u001b[0;32m---> 12\u001b[0m     \u001b[39mreturn\u001b[39;00m \u001b[39mall\u001b[39m([\u001b[39missubclass\u001b[39;49m(e, classinfo) \u001b[39mfor\u001b[39;00m e \u001b[39min\u001b[39;00m \u001b[39mcls\u001b[39m\u001b[39m.\u001b[39m__args__])\n\u001b[1;32m     13\u001b[0m \u001b[39mreturn\u001b[39;00m \u001b[39missubclass\u001b[39m(\u001b[39mcls\u001b[39m, classinfo)\n",
      "File \u001b[0;32m/usr/lib/python3.11/typing.py:1654\u001b[0m, in \u001b[0;36m_UnionGenericAlias.__subclasscheck__\u001b[0;34m(self, cls)\u001b[0m\n\u001b[1;32m   1652\u001b[0m \u001b[39mdef\u001b[39;00m \u001b[39m__subclasscheck__\u001b[39m(\u001b[39mself\u001b[39m, \u001b[39mcls\u001b[39m):\n\u001b[1;32m   1653\u001b[0m     \u001b[39mfor\u001b[39;00m arg \u001b[39min\u001b[39;00m \u001b[39mself\u001b[39m\u001b[39m.\u001b[39m__args__:\n\u001b[0;32m-> 1654\u001b[0m         \u001b[39mif\u001b[39;00m \u001b[39missubclass\u001b[39;49m(\u001b[39mcls\u001b[39;49m, arg):\n\u001b[1;32m   1655\u001b[0m             \u001b[39mreturn\u001b[39;00m \u001b[39mTrue\u001b[39;00m\n",
      "\u001b[0;31mTypeError\u001b[0m: issubclass() argument 2 cannot be a parameterized generic"
     ]
    }
   ],
   "source": [
    "from types import GenericAlias, UnionType\n",
    "from typing import Union, Any\n",
    "from saxobank.model.chart import charts\n",
    "from inspect import get_annotations\n",
    "from saxobank.model.common import AssetType\n",
    "from saxobank.model.base import SaxobankModel2\n",
    "\n",
    "def checksubclass(cls, classinfo):\n",
    "    print(classinfo)\n",
    "    if getattr(cls, '__origin__', None) == Union:\n",
    "        print(cls.__args__)\n",
    "        return all([issubclass(e, classinfo) for e in cls.__args__])\n",
    "    return issubclass(cls, classinfo)\n",
    "\n",
    "schema = get_annotations(charts.GetResp, eval_str=True)\n",
    "t = schema['Data'].__args__[0]\n",
    "# print(t)\n",
    "# print(type(t))\n",
    "# test = GenericAlias(UnionType, (AssetType, str))\n",
    "test = Union[dict[str, Any], SaxobankModel2]\n",
    "# print(test)\n",
    "# print(type(test))\n",
    "# print(t == test)\n",
    "print(checksubclass(t, test))\n"
   ]
  },
  {
   "cell_type": "code",
   "execution_count": null,
   "metadata": {},
   "outputs": [],
   "source": [
    "from mypy import  "
   ]
  }
 ],
 "metadata": {
  "kernelspec": {
   "display_name": ".venv",
   "language": "python",
   "name": "python3"
  },
  "language_info": {
   "codemirror_mode": {
    "name": "ipython",
    "version": 3
   },
   "file_extension": ".py",
   "mimetype": "text/x-python",
   "name": "python",
   "nbconvert_exporter": "python",
   "pygments_lexer": "ipython3",
   "version": "3.11.2"
  }
 },
 "nbformat": 4,
 "nbformat_minor": 4
}
